{
 "cells": [
  {
   "cell_type": "code",
   "execution_count": 1,
   "metadata": {
    "collapsed": false
   },
   "outputs": [
    {
     "name": "stderr",
     "output_type": "stream",
     "text": [
      "Using TensorFlow backend.\n"
     ]
    }
   ],
   "source": [
    "from keras.layers.core import Dense, Activation, Dropout\n",
    "from keras.layers.recurrent import LSTM\n",
    "from keras.models import Sequential\n",
    "import numpy as np\n",
    "import lstm, time #helper libraries\n",
    "import pandas as pd\n",
    "from sklearn.model_selection import train_test_split\n",
    "%matplotlib inline\n",
    "\n",
    "def parse_df(df):\n",
    "    df = df.replace('x',0)\n",
    "    df = df.drop(['diff','Prediction'], axis=1)\n",
    "    for col in df.columns.values:\n",
    "        try:\n",
    "            df[col] = df[col].map(lambda x: str(x).replace('%',''))\n",
    "            df[col] = df[col].map(lambda x: str(x).replace('$',''))\n",
    "            df[col] = df[col].astype(float)\n",
    "        except:\n",
    "            pass\n",
    "        \n",
    "    df = df.dropna(axis=0)\n",
    "\n",
    "    return df\n",
    "\n",
    "\n",
    "def create_dataset(dataset, look_back=1):\n",
    "    dataX, dataY = [], []\n",
    "    for i in range(len(dataset)-look_back-1):\n",
    "        a = dataset[i:(i+look_back), 0]\n",
    "        dataX.append(a)\n",
    "        dataY.append(dataset[i + look_back, 0])\n",
    "    return numpy.array(dataX), numpy.array(dataY)"
   ]
  },
  {
   "cell_type": "code",
   "execution_count": 2,
   "metadata": {
    "collapsed": false
   },
   "outputs": [],
   "source": [
    "csvfile = '../Historical sp sample for deeplearing futures prediction jordan july10.csv'\n",
    "df = pd.read_csv(csvfile, index_col='Local time')"
   ]
  },
  {
   "cell_type": "code",
   "execution_count": 3,
   "metadata": {
    "collapsed": false
   },
   "outputs": [
    {
     "data": {
      "text/html": [
       "<div>\n",
       "<style>\n",
       "    .dataframe thead tr:only-child th {\n",
       "        text-align: right;\n",
       "    }\n",
       "\n",
       "    .dataframe thead th {\n",
       "        text-align: left;\n",
       "    }\n",
       "\n",
       "    .dataframe tbody tr th {\n",
       "        vertical-align: top;\n",
       "    }\n",
       "</style>\n",
       "<table border=\"1\" class=\"dataframe\">\n",
       "  <thead>\n",
       "    <tr style=\"text-align: right;\">\n",
       "      <th></th>\n",
       "      <th>Open</th>\n",
       "      <th>High</th>\n",
       "      <th>Low</th>\n",
       "      <th>Close</th>\n",
       "      <th>diff</th>\n",
       "      <th>Volume</th>\n",
       "      <th>5minute moves</th>\n",
       "      <th>$1155 1 contract margin</th>\n",
       "      <th>5m answer</th>\n",
       "      <th>Prediction</th>\n",
       "      <th>...</th>\n",
       "      <th>10-15up</th>\n",
       "      <th>15-20up</th>\n",
       "      <th>20-25up</th>\n",
       "      <th>25-30up</th>\n",
       "      <th>30-35up</th>\n",
       "      <th>35-40up</th>\n",
       "      <th>40-45up</th>\n",
       "      <th>45-50up</th>\n",
       "      <th>50-55up</th>\n",
       "      <th>55-60up</th>\n",
       "    </tr>\n",
       "    <tr>\n",
       "      <th>Local time</th>\n",
       "      <th></th>\n",
       "      <th></th>\n",
       "      <th></th>\n",
       "      <th></th>\n",
       "      <th></th>\n",
       "      <th></th>\n",
       "      <th></th>\n",
       "      <th></th>\n",
       "      <th></th>\n",
       "      <th></th>\n",
       "      <th></th>\n",
       "      <th></th>\n",
       "      <th></th>\n",
       "      <th></th>\n",
       "      <th></th>\n",
       "      <th></th>\n",
       "      <th></th>\n",
       "      <th></th>\n",
       "      <th></th>\n",
       "      <th></th>\n",
       "      <th></th>\n",
       "    </tr>\n",
       "  </thead>\n",
       "  <tbody>\n",
       "    <tr>\n",
       "      <th>25.06.2017 23:00:00.000</th>\n",
       "      <td>2440.400</td>\n",
       "      <td>2440.400</td>\n",
       "      <td>2440.150</td>\n",
       "      <td>2440.399</td>\n",
       "      <td>0.25</td>\n",
       "      <td>0.0051</td>\n",
       "      <td>x</td>\n",
       "      <td>x</td>\n",
       "      <td>8.66%</td>\n",
       "      <td>NaN</td>\n",
       "      <td>...</td>\n",
       "      <td>NaN</td>\n",
       "      <td>NaN</td>\n",
       "      <td>NaN</td>\n",
       "      <td>NaN</td>\n",
       "      <td>NaN</td>\n",
       "      <td>NaN</td>\n",
       "      <td>NaN</td>\n",
       "      <td>NaN</td>\n",
       "      <td>NaN</td>\n",
       "      <td>NaN</td>\n",
       "    </tr>\n",
       "    <tr>\n",
       "      <th>25.06.2017 23:01:00.000</th>\n",
       "      <td>2440.649</td>\n",
       "      <td>2441.149</td>\n",
       "      <td>2440.649</td>\n",
       "      <td>2440.900</td>\n",
       "      <td>0.00</td>\n",
       "      <td>0.0044</td>\n",
       "      <td>x</td>\n",
       "      <td>x</td>\n",
       "      <td>6.45%</td>\n",
       "      <td>NaN</td>\n",
       "      <td>...</td>\n",
       "      <td>NaN</td>\n",
       "      <td>NaN</td>\n",
       "      <td>NaN</td>\n",
       "      <td>NaN</td>\n",
       "      <td>NaN</td>\n",
       "      <td>NaN</td>\n",
       "      <td>NaN</td>\n",
       "      <td>NaN</td>\n",
       "      <td>NaN</td>\n",
       "      <td>NaN</td>\n",
       "    </tr>\n",
       "    <tr>\n",
       "      <th>25.06.2017 23:02:00.000</th>\n",
       "      <td>2441.019</td>\n",
       "      <td>2441.520</td>\n",
       "      <td>2440.899</td>\n",
       "      <td>2441.399</td>\n",
       "      <td>0.12</td>\n",
       "      <td>0.0110</td>\n",
       "      <td>x</td>\n",
       "      <td>x</td>\n",
       "      <td>4.29%</td>\n",
       "      <td>NaN</td>\n",
       "      <td>...</td>\n",
       "      <td>NaN</td>\n",
       "      <td>NaN</td>\n",
       "      <td>NaN</td>\n",
       "      <td>NaN</td>\n",
       "      <td>NaN</td>\n",
       "      <td>NaN</td>\n",
       "      <td>NaN</td>\n",
       "      <td>NaN</td>\n",
       "      <td>NaN</td>\n",
       "      <td>NaN</td>\n",
       "    </tr>\n",
       "    <tr>\n",
       "      <th>25.06.2017 23:03:00.000</th>\n",
       "      <td>2441.519</td>\n",
       "      <td>2441.770</td>\n",
       "      <td>2441.519</td>\n",
       "      <td>2441.770</td>\n",
       "      <td>0.00</td>\n",
       "      <td>0.0054</td>\n",
       "      <td>x</td>\n",
       "      <td>x</td>\n",
       "      <td>3.77%</td>\n",
       "      <td>NaN</td>\n",
       "      <td>...</td>\n",
       "      <td>NaN</td>\n",
       "      <td>NaN</td>\n",
       "      <td>NaN</td>\n",
       "      <td>NaN</td>\n",
       "      <td>NaN</td>\n",
       "      <td>NaN</td>\n",
       "      <td>NaN</td>\n",
       "      <td>NaN</td>\n",
       "      <td>NaN</td>\n",
       "      <td>NaN</td>\n",
       "    </tr>\n",
       "    <tr>\n",
       "      <th>25.06.2017 23:04:00.000</th>\n",
       "      <td>2441.900</td>\n",
       "      <td>2442.150</td>\n",
       "      <td>2441.650</td>\n",
       "      <td>2441.899</td>\n",
       "      <td>0.25</td>\n",
       "      <td>0.0118</td>\n",
       "      <td>x</td>\n",
       "      <td>x</td>\n",
       "      <td>2.13%</td>\n",
       "      <td>NaN</td>\n",
       "      <td>...</td>\n",
       "      <td>NaN</td>\n",
       "      <td>NaN</td>\n",
       "      <td>NaN</td>\n",
       "      <td>NaN</td>\n",
       "      <td>NaN</td>\n",
       "      <td>NaN</td>\n",
       "      <td>NaN</td>\n",
       "      <td>NaN</td>\n",
       "      <td>NaN</td>\n",
       "      <td>NaN</td>\n",
       "    </tr>\n",
       "  </tbody>\n",
       "</table>\n",
       "<p>5 rows × 82 columns</p>\n",
       "</div>"
      ],
      "text/plain": [
       "                             Open      High       Low     Close  diff  Volume  \\\n",
       "Local time                                                                      \n",
       "25.06.2017 23:00:00.000  2440.400  2440.400  2440.150  2440.399  0.25  0.0051   \n",
       "25.06.2017 23:01:00.000  2440.649  2441.149  2440.649  2440.900  0.00  0.0044   \n",
       "25.06.2017 23:02:00.000  2441.019  2441.520  2440.899  2441.399  0.12  0.0110   \n",
       "25.06.2017 23:03:00.000  2441.519  2441.770  2441.519  2441.770  0.00  0.0054   \n",
       "25.06.2017 23:04:00.000  2441.900  2442.150  2441.650  2441.899  0.25  0.0118   \n",
       "\n",
       "                        5minute moves $1155 1 contract margin 5m answer  \\\n",
       "Local time                                                                \n",
       "25.06.2017 23:00:00.000             x                       x     8.66%   \n",
       "25.06.2017 23:01:00.000             x                       x     6.45%   \n",
       "25.06.2017 23:02:00.000             x                       x     4.29%   \n",
       "25.06.2017 23:03:00.000             x                       x     3.77%   \n",
       "25.06.2017 23:04:00.000             x                       x     2.13%   \n",
       "\n",
       "                        Prediction   ...   10-15up 15-20up 20-25up 25-30up  \\\n",
       "Local time                           ...                                     \n",
       "25.06.2017 23:00:00.000        NaN   ...       NaN     NaN     NaN     NaN   \n",
       "25.06.2017 23:01:00.000        NaN   ...       NaN     NaN     NaN     NaN   \n",
       "25.06.2017 23:02:00.000        NaN   ...       NaN     NaN     NaN     NaN   \n",
       "25.06.2017 23:03:00.000        NaN   ...       NaN     NaN     NaN     NaN   \n",
       "25.06.2017 23:04:00.000        NaN   ...       NaN     NaN     NaN     NaN   \n",
       "\n",
       "                        30-35up 35-40up 40-45up 45-50up 50-55up 55-60up  \n",
       "Local time                                                               \n",
       "25.06.2017 23:00:00.000     NaN     NaN     NaN     NaN     NaN     NaN  \n",
       "25.06.2017 23:01:00.000     NaN     NaN     NaN     NaN     NaN     NaN  \n",
       "25.06.2017 23:02:00.000     NaN     NaN     NaN     NaN     NaN     NaN  \n",
       "25.06.2017 23:03:00.000     NaN     NaN     NaN     NaN     NaN     NaN  \n",
       "25.06.2017 23:04:00.000     NaN     NaN     NaN     NaN     NaN     NaN  \n",
       "\n",
       "[5 rows x 82 columns]"
      ]
     },
     "execution_count": 3,
     "metadata": {},
     "output_type": "execute_result"
    }
   ],
   "source": [
    "df.head()"
   ]
  },
  {
   "cell_type": "code",
   "execution_count": 4,
   "metadata": {
    "collapsed": false
   },
   "outputs": [],
   "source": [
    "df = parse_df(df)\n"
   ]
  },
  {
   "cell_type": "code",
   "execution_count": 5,
   "metadata": {
    "collapsed": false
   },
   "outputs": [],
   "source": [
    "#Step 1 Load Data\n",
    "X = df[['Open', 'High', 'Low', 'Close', 'Volume', '5minute moves',\n",
    "       '$1155 1 contract margin', '5m answer', '1HvH-1', '1HvH-2',\n",
    "       '1HvH-4', '1HvH-8', '1HvH-16', '2HvH-2', '2HvH-4', '2HvH-8',\n",
    "       '2HvH-16', '2HvH-32', '3HvH-3', '3HvH-6', '3HvH-12', '3HvH-24',\n",
    "       '3HvH-48', '5HvH-5', '5HvH-10', '5HvH-20', '5HvH-40', '5HvH-80',\n",
    "       '1LvL-1', '1LvL-2', '1LvL-4', '1LvL-8', '1LvL-16', '2LvL-2',\n",
    "       '2LvL-4', '2LvL-8', '2LvL-16', '2LvL-32', '3LvL-3', '3LvL-6',\n",
    "       '3LvL-12', '3LvL-24', '3LvL-48', '5LvL-5', '5LvL-10', '5LvL-20',\n",
    "       '5LvL-40', '5LvL-80', '1RvR-1', '1RvR-2', '1RvR-3', '1RvR-4',\n",
    "       '1RvR-5', '2RvR-2', '2RvR-4', '2RvR-6', '2RvR-8', '2RvR-10',\n",
    "       '3RvR-3', '3RvR-6', '3RvR-9', '3RvR-12', '3RvR-15', '5RvR-5',\n",
    "       '5RvR-10', '5RvR-15', '5RvR-20', '5RvR-25', '5minup', '5-10up',\n",
    "       '10-15up', '15-20up', '20-25up', '25-30up', '30-35up', '35-40up',\n",
    "       '40-45up', '45-50up', '50-55up', '55-60up']]\n",
    "\n",
    "\n"
   ]
  },
  {
   "cell_type": "code",
   "execution_count": 8,
   "metadata": {
    "collapsed": false
   },
   "outputs": [],
   "source": [
    "## YOU CAN MODIFY 'Close' FOR OTHER FEATURES\n",
    "X[['Close']].to_csv(\"jordan.csv\", index=False, header=False)\n",
    "\n",
    "X_train, y_train, X_test, y_test = lstm.load_data('jordan.csv', 50, True)"
   ]
  },
  {
   "cell_type": "code",
   "execution_count": 9,
   "metadata": {
    "collapsed": false
   },
   "outputs": [
    {
     "name": "stdout",
     "output_type": "stream",
     "text": [
      "> Compilation Time :  0.031021595001220703\n"
     ]
    }
   ],
   "source": [
    "model = lstm.build_model([1, 50, 100, 1])"
   ]
  },
  {
   "cell_type": "code",
   "execution_count": 10,
   "metadata": {
    "collapsed": false
   },
   "outputs": [
    {
     "name": "stdout",
     "output_type": "stream",
     "text": [
      "Train on 3135 samples, validate on 165 samples\n",
      "Epoch 1/3\n",
      "3135/3135 [==============================] - 11s - loss: 3.4582e-04 - val_loss: 1.3212e-06\b\b\b\b\b\b\b\b\b\b\b\b\b\b\b\b\b\b\b\b\b\b\b\b\b\b\b\b\b\b\b\b\b\b\b\b\b\b\b\b\b\b\b\b\b\b\b\b\b\b\b\b\b\b\b\b\b\b\b\b\b\b\b\b\b\b\b\b\b\b\b\b\b\b\b\b\b\b\b\b\b\b\b\b\b\b\b\b\b\b\b\b\b\b\b\b\b\b\b\b\b\b\b\b\b\b\b\b\b\b\b\b\b\b\b\b\b\b\b\b\b\b\b\b\b\b\b\b\b\b\b\b\b\b\b\b\b\b\b\b\b\b\b\b\b\b\b\b\b\b\b\b\b\b\b\b\b\b\b\b\b\b\b\b\b\b\b\b\b\b\b\b\b\b\b\b\b\b\b\b\b\b\b\b\b\b\b\b\b\b\b\b\b\b\b\b\b\b\b\b\b\b\b\b\b\b\b\b\b\b\b\b\b\b\b\b\b\b\b\b\b\b\b\b\b\b\b\b\b\b\b\b\b\b\b\b\b\b\b\b\b\b\b\b\b\b\b\b\b\b\b\b\b\b\b\b\b\b\b\b\b\b\b\b\b\b\b\b\b\b\b\b\b\b\b\b\b\b\b\b\b\b\b\b\b\b\b\b\b\b\b\b\b\b\b\b\b\b\b\b\b\b\b\b\b\b\b\b\b\b\b\b\b\b\b\b\b\b\b\b\b\b\b\b\b\b\b\b\b\b\b\b\b\b\b\b\b\b\b\b\b\b\b\b\b\b\b\b\b\b\b\b\b\b\b\b\b\b\b\b\b\b\b\b\b\b\b\b\b\b\b\b\b\b\b\b\b\b\b\b\b\b\b\b\b\b\b\b\b\b\b\b\b\b\b\b\b\b\b\b\b\b\b\b\b\n",
      "Epoch 2/3\n",
      "3135/3135 [==============================] - 9s - loss: 2.3551e-06 - val_loss: 1.3284e-06\b\b\b\b\b\b\b\b\b\b\b\b\b\b\b\b\b\b\b\b\b\b\b\b\b\b\b\b\b\b\b\b\b\b\b\b\b\b\b\b\b\b\b\b\b\b\b\b\b\b\b\b\b\b\b\b\b\b\b\b\b\b\b\b\b\b\b\b\b\b\b\b\b\b\b\b\b\b\b\b\b\b\b\b\b\b\b\b\b\b\b\b\b\b\b\b\b\b\b\b\b\b\b\b\b\b\b\b\b\b\b\b\b\b\b\b\b\b\b\b\b\b\b\b\b\b\b\b\b\b\b\b\b\b\b\b\b\b\b\b\b\b\b\b\b\b\b\b\b\b\b\b\b\b\b\b\b\b\b\b\b\b\b\b\b\b\b\b\b\b\b\b\b\b\b\b\b\b\b\b\b\b\b\b\b\b\b\b\b\b\b\b\b\b\b\b\b\b\b\b\b\b\b\b\b\b\b\b\b\b\b\b\b\b\b\b\b\b\b\b\b\b\b\b\b\b\b\b\b\b\b\b\b\b\b\b\b\b\b\b\b\b\b\b\b\b\b\b\b\b\b\b\b\b\b\b\b\b\b\b\b\b\b\b\b\b\b\b\b\b\b\b\b\b\b\b\b\b\b\b\b\b\b\b\b\b\b\b\b\b\b\b\b\b\b\b\b\b\b\b\b\b\b\b\b\b\b\b\b\b\b\b\b\b\b\b\b\b\b\b\b\b\b\b\b\b\b\b\b\b\b\b\b\b\b\b\b\b\b\b\b\b\b\b\b\b\b\b\b\b\b\b\b\b\b\b\b\b\b\b\b\b\b\b\b\b\b\b\b\b\b\b\b\b\b\b\b\b\b\b\b\b\b\b\b\b\b\b\b\b\b\b\b\b\b\b\b\b\b\b\b\b\b\b\b\b\b\b\n",
      "Epoch 3/3\n",
      "3135/3135 [==============================] - 9s - loss: 1.9955e-06 - val_loss: 1.2216e-06\b\b\b\b\b\b\b\b\b\b\b\b\b\b\b\b\b\b\b\b\b\b\b\b\b\b\b\b\b\b\b\b\b\b\b\b\b\b\b\b\b\b\b\b\b\b\b\b\b\b\b\b\b\b\b\b\b\b\b\b\b\b\b\b\b\b\b\b\b\b\b\b\b\b\b\b\b\b\b\b\b\b\b\b\b\b\b\b\b\b\b\b\b\b\b\b\b\b\b\b\b\b\b\b\b\b\b\b\b\b\b\b\b\b\b\b\b\b\b\b\b\b\b\b\b\b\b\b\b\b\b\b\b\b\b\b\b\b\b\b\b\b\b\b\b\b\b\b\b\b\b\b\b\b\b\b\b\b\b\b\b\b\b\b\b\b\b\b\b\b\b\b\b\b\b\b\b\b\b\b\b\b\b\b\b\b\b\b\b\b\b\b\b\b\b\b\b\b\b\b\b\b\b\b\b\b\b\b\b\b\b\b\b\b\b\b\b\b\b\b\b\b\b\b\b\b\b\b\b\b\b\b\b\b\b\b\b\b\b\b\b\b\b\b\b\b\b\b\b\b\b\b\b\b\b\b\b\b\b\b\b\b\b\b\b\b\b\b\b\b\b\b\b\b\b\b\b\b\b\b\b\b\b\b\b\b\b\b\b\b\b\b\b\b\b\b\b\b\b\b\b\b\b\b\b\b\b\b\b\b\b\b\b\b\b\b\b\b\b\b\b\b\b\b\b\b\b\b\b\b\b\b\b\b\b\b\b\b\b\b\b\b\b\b\b\b\b\b\b\b\b\b\b\b\b\b\b\b\b\b\b\b\b\b\b\b\b\b\b\b\b\b\b\b\b\b\b\b\b\b\b\b\b\b\b\b\b\b\b\b\b\b\b\b\b\b\b\b\b\b\b\b\b\b\b\b\b\b\n"
     ]
    },
    {
     "data": {
      "text/plain": [
       "<keras.callbacks.History at 0x2444bbc9b38>"
      ]
     },
     "execution_count": 10,
     "metadata": {},
     "output_type": "execute_result"
    }
   ],
   "source": [
    "#Step 3 Train the model\n",
    "model.fit(\n",
    "    X_train,\n",
    "    y_train,\n",
    "    batch_size=512,\n",
    "    nb_epoch=3,\n",
    "    validation_split=0.05)"
   ]
  },
  {
   "cell_type": "code",
   "execution_count": 14,
   "metadata": {
    "collapsed": true
   },
   "outputs": [],
   "source": [
    "import matplotlib.pyplot as plt\n",
    "\n",
    "def plot_results(predicted_data, true_data):\n",
    "    fig = plt.figure(facecolor='white')\n",
    "    ax = fig.add_subplot(111)\n",
    "    ax.plot(true_data, label='True Data')\n",
    "    plt.plot(predicted_data, label='Prediction')\n",
    "    plt.legend()\n",
    "    plt.show()\n",
    "\n",
    "def plot_results_multiple(predicted_data, true_data, prediction_len):\n",
    "    fig = plt.figure(facecolor='white')\n",
    "    ax = fig.add_subplot(111)\n",
    "    ax.plot(true_data, label='True Data')\n",
    "    #Pad the list of predictions to shift it in the graph to it's correct start\n",
    "    for i, data in enumerate(predicted_data):\n",
    "        padding = [None for p in range(i * prediction_len)]\n",
    "        plt.plot(padding + data, label='Prediction')\n",
    "        plt.legend()\n",
    "    plt.show()"
   ]
  },
  {
   "cell_type": "code",
   "execution_count": 16,
   "metadata": {
    "collapsed": false
   },
   "outputs": [],
   "source": [
    "#Step 4 - Plot the predictions!\n",
    "predictions = lstm.predict_sequences_multiple(model, X_test, 50, 50)\n"
   ]
  },
  {
   "cell_type": "code",
   "execution_count": 18,
   "metadata": {
    "collapsed": false
   },
   "outputs": [
    {
     "data": {
      "image/png": "[encoded data removed]",
      "text/plain": [
       "<matplotlib.figure.Figure at 0x2444bc69c50>"
      ]
     },
     "metadata": {},
     "output_type": "display_data"
    }
   ],
   "source": [
    "plot_results_multiple(predictions, y_test, 50)   "
   ]
  },
  {
   "cell_type": "code",
   "execution_count": null,
   "metadata": {
    "collapsed": true
   },
   "outputs": [],
   "source": []
  }
 ],
 "metadata": {
  "anaconda-cloud": {},
  "kernelspec": {
   "display_name": "Python 3",
   "language": "python",
   "name": "python3"
  },
  "language_info": {
   "codemirror_mode": {
    "name": "ipython",
    "version": 3
   },
   "file_extension": ".py",
   "mimetype": "text/x-python",
   "name": "python",
   "nbconvert_exporter": "python",
   "pygments_lexer": "ipython3",
   "version": "3.6.0"
  }
 },
 "nbformat": 4,
 "nbformat_minor": 1
}
